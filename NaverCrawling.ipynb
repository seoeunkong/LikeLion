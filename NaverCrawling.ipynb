{
  "nbformat": 4,
  "nbformat_minor": 0,
  "metadata": {
    "colab": {
      "name": "NaverCrawling.ipynb",
      "provenance": [],
      "authorship_tag": "ABX9TyM3YVf2f2VLK/VZzLHmICjy",
      "include_colab_link": true
    },
    "kernelspec": {
      "name": "python3",
      "display_name": "Python 3"
    },
    "language_info": {
      "name": "python"
    }
  },
  "cells": [
    {
      "cell_type": "markdown",
      "metadata": {
        "id": "view-in-github",
        "colab_type": "text"
      },
      "source": [
        "<a href=\"https://colab.research.google.com/github/seoeunkong/LikeLion/blob/main/NaverCrawling.ipynb\" target=\"_parent\"><img src=\"https://colab.research.google.com/assets/colab-badge.svg\" alt=\"Open In Colab\"/></a>"
      ]
    },
    {
      "cell_type": "code",
      "execution_count": 2,
      "metadata": {
        "colab": {
          "base_uri": "https://localhost:8080/"
        },
        "id": "Wvtq8OIOvowF",
        "outputId": "6b07f71e-fa47-4fde-b5e7-4b6da4c2a9c5"
      },
      "outputs": [
        {
          "output_type": "stream",
          "name": "stdout",
          "text": [
            "검색할 키워드를 입력해주세요: 동물\n",
            "크롤링할 페이지를 입력해주세요(숫자만 입력): 1\n",
            "   번호                                          제목\n",
            "0   1                   '동물농장' 까만 눈썹 짱구에겐 어떤 사연이?\n",
            "1   2    [SBS TV 동물농장] 사랑의 도피 부부닭, 눈썹 강아지 짱구는 못말려\n",
            "2   3               “세상에나ㅠ”…김건희, 동물보호단체 글 올렸다가 삭제\n",
            "3   4       “인도네시아 동물원으로 침팬지 방출 결정”…논란되는 이유 [이슈픽]\n",
            "4   5  제주 산남·북 대규모 양돈단지 조성 '설전'…동물권 단체 \"공약 철회\" 촉구\n",
            "5   6                               '동물을 죽이지 마세요'\n",
            "6   7      갓 구운 스테이크 주고, 코 무늬로 동물 등록…‘펫휴머니제이션’ 산업\n",
            "7   8               솜사탕 손에 들고...가정의 달·일상회복 동물원 인파\n",
            "8   9             네이버·카카오 손잡은 '어바웃펫'…반려동물 시장 선도할까\n",
            "9  10            '패션을 입은' 기부…동물권도 트렌디하게 풀어낸 'NFT'\n"
          ]
        }
      ],
      "source": [
        "from matplotlib.pyplot import title\n",
        "import requests\n",
        "import pandas as pd\n",
        "import openpyxl\n",
        "from bs4 import BeautifulSoup\n",
        "\n",
        "query = input(\"검색할 키워드를 입력해주세요: \")\n",
        "page = int(input(\"크롤링할 페이지를 입력해주세요(숫자만 입력): \"))\n",
        "rank = 0\n",
        "naver = []\n",
        "\n",
        "\n",
        "#df = pd.DataFrame([[11, 21, 31], [12, 22, 32], [31, 32, 33]],index=[0, 1, 2, 3, 4, 5, 6, 7, 8, 9], columns=['번호', '제목'])\n",
        "\n",
        "def pageSort(page):\n",
        "    page = (page-1)*10 + 1\n",
        "    return page\n",
        "    \n",
        "headers = {'User-Agent':'Mozilla/5.0 (Windows NT 6.3; Win64; x64) AppleWebKit/537.36 (KHTML, like Gecko) Chrome/63.0.3239.132 Safari/537.36'}\n",
        "url = f\"https://search.naver.com/search.naver?where=news&sm=tab_pge&query={query}&sort=0&photo=0&field=0&pd=0&ds=&de=&cluster_rank=77&mynews=0&office_type=0&office_section_code=0&news_office_checked=&nso=so:r,p:all,a:all&start={pageSort(page)}\"\n",
        "\n",
        "response = requests.get(url,headers=headers)\n",
        "soup = BeautifulSoup(response.text, 'html.parser')\n",
        "#print(response.text)\n",
        "\n",
        "# span - item_title\n",
        "results = soup.findAll('a')\n",
        "\n",
        "\n",
        "for result in results:\n",
        "    news = []\n",
        "    title = result.get(\"title\")\n",
        "    if (title != None) and (result.get(\"class\")[0]==\"news_tit\"):\n",
        "         rank += 1\n",
        "         news.append(rank)\n",
        "         news.append(title)\n",
        "         naver.append(news)\n",
        "        \n",
        "         #print(title)\n",
        "    \n",
        "  \n",
        "df = pd.DataFrame(naver,index=[0, 1, 2, 3, 4, 5, 6, 7, 8, 9], columns=['번호', '제목'])\n",
        "#df.to_excel('C:/Users/seoeu/OneDrive/바탕 화면/대외활동 자료/멋쟁이사자처럼/LIKELION_0502.xlsx', sheet_name='new_name')\n",
        "\n",
        "\n",
        "print(df)"
      ]
    }
  ]
}