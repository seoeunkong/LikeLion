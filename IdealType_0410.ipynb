{
  "nbformat": 4,
  "nbformat_minor": 0,
  "metadata": {
    "colab": {
      "name": "IdealType_0410",
      "provenance": [],
      "authorship_tag": "ABX9TyNcCu7llu0qdva+bbAcUKq4",
      "include_colab_link": true
    },
    "kernelspec": {
      "name": "python3",
      "display_name": "Python 3"
    },
    "language_info": {
      "name": "python"
    }
  },
  "cells": [
    {
      "cell_type": "markdown",
      "metadata": {
        "id": "view-in-github",
        "colab_type": "text"
      },
      "source": [
        "<a href=\"https://colab.research.google.com/github/seoeunkong/LikeLion/blob/main/IdealType_0410.ipynb\" target=\"_parent\"><img src=\"https://colab.research.google.com/assets/colab-badge.svg\" alt=\"Open In Colab\"/></a>"
      ]
    },
    {
      "cell_type": "code",
      "execution_count": 1,
      "metadata": {
        "id": "tAqBMGGnW9Zv",
        "colab": {
          "base_uri": "https://localhost:8080/"
        },
        "outputId": "3184bfff-0dac-4af9-97cc-470202a757e6"
      },
      "outputs": [
        {
          "output_type": "stream",
          "name": "stdout",
          "text": [
            "질문을 입력해주세요 : 이상형이 무엇인가요?\n",
            "질문을 입력해주세요 : 나이가 몇살인가요?\n",
            "질문을 입력해주세요 : q\n",
            "이상형이 무엇인가요?\n",
            "답변을 입력해주세요 : 착한 사람\n",
            "나이가 몇살인가요?\n",
            "답변을 입력해주세요 : 24살\n",
            "{'이상형이 무엇인가요?': '착한 사람', '나이가 몇살인가요?': '24살'}\n"
          ]
        }
      ],
      "source": [
        "total_dictionary = {}\n",
        "\n",
        "while True:\n",
        "    question = input(\"질문을 입력해주세요 : \")\n",
        "    if question == \"q\":\n",
        "        break\n",
        "    else:\n",
        "        total_dictionary[question] = \"\"\n",
        "\n",
        "for i in total_dictionary:\n",
        "    print(i)\n",
        "    answer = input(\"답변을 입력해주세요 : \")\n",
        "    total_dictionary[i] = answer\n",
        "print(total_dictionary)"
      ]
    }
  ]
}