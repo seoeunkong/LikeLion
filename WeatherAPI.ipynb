{
  "nbformat": 4,
  "nbformat_minor": 0,
  "metadata": {
    "colab": {
      "name": "WeatherAPI.ipynb",
      "provenance": [],
      "authorship_tag": "ABX9TyOf+soIA8XURMXGeQW/EXqz",
      "include_colab_link": true
    },
    "kernelspec": {
      "name": "python3",
      "display_name": "Python 3"
    },
    "language_info": {
      "name": "python"
    }
  },
  "cells": [
    {
      "cell_type": "markdown",
      "metadata": {
        "id": "view-in-github",
        "colab_type": "text"
      },
      "source": [
        "<a href=\"https://colab.research.google.com/github/seoeunkong/LikeLion/blob/main/WeatherAPI.ipynb\" target=\"_parent\"><img src=\"https://colab.research.google.com/assets/colab-badge.svg\" alt=\"Open In Colab\"/></a>"
      ]
    },
    {
      "cell_type": "code",
      "execution_count": 1,
      "metadata": {
        "colab": {
          "base_uri": "https://localhost:8080/"
        },
        "id": "CFTm7aqduL5k",
        "outputId": "f9a2352d-31a6-487e-a838-fe2a24a37b54"
      },
      "outputs": [
        {
          "output_type": "stream",
          "name": "stdout",
          "text": [
            "{\"coord\":{\"lon\":126.9778,\"lat\":37.5683},\"weather\":[{\"id\":502,\"main\":\"Rain\",\"description\":\"강한 비\",\"icon\":\"10d\"}],\"base\":\"stations\",\"main\":{\"temp\":16.66,\"feels_like\":15.24,\"temp_min\":16.66,\"temp_max\":16.69,\"pressure\":1017,\"humidity\":33,\"sea_level\":1017,\"grnd_level\":1011},\"visibility\":10000,\"wind\":{\"speed\":1.36,\"deg\":303,\"gust\":1.82},\"rain\":{\"1h\":4.6},\"clouds\":{\"all\":100},\"dt\":1651997232,\"sys\":{\"type\":1,\"id\":5509,\"country\":\"KR\",\"sunrise\":1651955385,\"sunset\":1652005647},\"timezone\":32400,\"id\":1835848,\"name\":\"Seoul\",\"cod\":200}\n",
            "Seoul 의 날씨입니다.\n",
            "날씨는  강한 비 입니다.\n",
            "현재 온도는  16.66 입니다.\n",
            "하지만 체감 온도는  15.24 입니다.\n",
            "최저 기온은  16.66 입니다.\n",
            "최고 기온은  16.69 입니다.\n",
            "습도는  33 입니다.\n",
            "기압은  1017 입니다.\n",
            "풍향은  303 입니다.\n",
            "풍속은  1.36 입니다.\n"
          ]
        }
      ],
      "source": [
        "import requests\n",
        "import json\n",
        "\n",
        "city = \"Seoul\"\n",
        "apikey = \"0f6ae77ae91e725496984f0eeac27378\"\n",
        "lang = \"kr\"\n",
        "\n",
        "#units=metric 는 섭씨온도를 화씨로 바꿔줌\n",
        "api = f\"http://api.openweathermap.org/data/2.5/weather?q={city}&appid={apikey}&lang={lang}&units=metric\"\n",
        "\n",
        "\n",
        "result = requests.get(api)\n",
        "print(result.text)\n",
        "\n",
        "data = json.loads(result.text)\n",
        "\n",
        "print(data[\"name\"],\"의 날씨입니다.\")\n",
        "print(\"날씨는 \",data[\"weather\"][0][\"description\"],\"입니다.\")\n",
        "print(\"현재 온도는 \",data[\"main\"][\"temp\"],\"입니다.\")\n",
        "print(\"하지만 체감 온도는 \",data[\"main\"][\"feels_like\"],\"입니다.\")\n",
        "print(\"최저 기온은 \",data[\"main\"][\"temp_min\"],\"입니다.\")\n",
        "print(\"최고 기온은 \",data[\"main\"][\"temp_max\"],\"입니다.\")\n",
        "print(\"습도는 \",data[\"main\"][\"humidity\"],\"입니다.\")\n",
        "print(\"기압은 \",data[\"main\"][\"pressure\"],\"입니다.\")\n",
        "print(\"풍향은 \",data[\"wind\"][\"deg\"],\"입니다.\")\n",
        "print(\"풍속은 \",data[\"wind\"][\"speed\"],\"입니다.\")"
      ]
    }
  ]
}