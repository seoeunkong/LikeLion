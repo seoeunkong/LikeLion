{
  "nbformat": 4,
  "nbformat_minor": 0,
  "metadata": {
    "colab": {
      "name": "randomMenu_0403.ipynb",
      "provenance": [],
      "authorship_tag": "ABX9TyMHOEZDZHUSu78pU7CMxW1Q",
      "include_colab_link": true
    },
    "kernelspec": {
      "name": "python3",
      "display_name": "Python 3"
    },
    "language_info": {
      "name": "python"
    }
  },
  "cells": [
    {
      "cell_type": "markdown",
      "metadata": {
        "id": "view-in-github",
        "colab_type": "text"
      },
      "source": [
        "<a href=\"https://colab.research.google.com/github/seoeunkong/LikeLion/blob/main/randomMenu_0403.ipynb\" target=\"_parent\"><img src=\"https://colab.research.google.com/assets/colab-badge.svg\" alt=\"Open In Colab\"/></a>"
      ]
    },
    {
      "cell_type": "code",
      "execution_count": 1,
      "metadata": {
        "colab": {
          "base_uri": "https://localhost:8080/"
        },
        "id": "rph9vq8iwLlA",
        "outputId": "952a20e2-d8c8-4b92-c740-b02b125a7aba"
      },
      "outputs": [
        {
          "output_type": "stream",
          "name": "stdout",
          "text": [
            "['된장찌개', '피자', '제육볶음', '짜장면']\n",
            "음식을 추가 해주세요 : 치킨\n",
            "['된장찌개', '피자', '제육볶음', '짜장면', '치킨']\n",
            "음식을 추가 해주세요 : 회\n",
            "['된장찌개', '피자', '제육볶음', '짜장면', '치킨', '회']\n",
            "음식을 추가 해주세요 : q\n",
            "['된장찌개', '피자', '제육볶음', '짜장면', '치킨', '회']\n",
            "{'된장찌개', '회', '짜장면', '제육볶음', '치킨', '피자'}\n",
            "음식을 삭제해주세요 : 피자\n",
            "{'된장찌개', '회', '짜장면', '제육볶음', '치킨'}\n",
            "음식을 삭제해주세요 : q\n",
            "{'된장찌개', '회', '짜장면', '제육볶음', '치킨'} 중에서 선택합니다.\n",
            "5\n",
            "4\n",
            "3\n",
            "2\n",
            "1\n",
            "치킨\n"
          ]
        }
      ],
      "source": [
        "import random\n",
        "import time\n",
        "\n",
        "lunch = [\"된장찌개\", \"피자\", \"제육볶음\", \"짜장면\"]\n",
        "\n",
        "while True:\n",
        "    print(lunch)\n",
        "    item = input(\"음식을 추가 해주세요 : \")\n",
        "    if(item == \"q\"):\n",
        "        break\n",
        "    else:\n",
        "        lunch.append(item)\n",
        "print(lunch)\n",
        "\n",
        "set_lunch = set(lunch)\n",
        "while True:\n",
        "    print(set_lunch)\n",
        "    item = input(\"음식을 삭제해주세요 : \")\n",
        "    if(item == \"q\"):\n",
        "        break\n",
        "    else:\n",
        "        set_lunch = set_lunch - set([item])\n",
        "\n",
        "print(set_lunch, \"중에서 선택합니다.\")\n",
        "print(\"5\")\n",
        "time.sleep(1)\n",
        "print(\"4\")\n",
        "time.sleep(1)\n",
        "print(\"3\")\n",
        "time.sleep(1)\n",
        "print(\"2\")\n",
        "time.sleep(1)\n",
        "print(\"1\")\n",
        "time.sleep(1)\n",
        "print(random.choice(list(set_lunch)))"
      ]
    }
  ]
}