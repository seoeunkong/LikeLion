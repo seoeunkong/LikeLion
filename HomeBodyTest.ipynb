{
  "nbformat": 4,
  "nbformat_minor": 0,
  "metadata": {
    "colab": {
      "name": "HomeBodyTest.ipynb",
      "provenance": [],
      "authorship_tag": "ABX9TyP6WgfWEsZyvCvQx7Zmy6Wi",
      "include_colab_link": true
    },
    "kernelspec": {
      "name": "python3",
      "display_name": "Python 3"
    },
    "language_info": {
      "name": "python"
    }
  },
  "cells": [
    {
      "cell_type": "markdown",
      "metadata": {
        "id": "view-in-github",
        "colab_type": "text"
      },
      "source": [
        "<a href=\"https://colab.research.google.com/github/seoeunkong/LikeLion/blob/main/HomeBodyTest.ipynb\" target=\"_parent\"><img src=\"https://colab.research.google.com/assets/colab-badge.svg\" alt=\"Open In Colab\"/></a>"
      ]
    },
    {
      "cell_type": "code",
      "execution_count": 1,
      "metadata": {
        "colab": {
          "base_uri": "https://localhost:8080/"
        },
        "id": "J8aTDY9uu37H",
        "outputId": "efc15b78-f743-4d63-919b-ff954e68abd4"
      },
      "outputs": [
        {
          "output_type": "stream",
          "name": "stdout",
          "text": [
            "당신의 이름은? 신데렐라\n",
            "===== 안녕하세요 신데렐라님, 당신은 집순이일까요?=====\n",
            "=====  모든 질문의 대답을 네, 아니오로 답변해주세요 =====\n",
            "받을 질문의 개수를 입력해주세요(최대 7개 가능): 4\n",
            "휴대폰만 있어도 안 심심한가요 ?네\n",
            "카톡 , 문자 알림을 잘 확인하지 않나요 ?네\n",
            "불금에는 북적대는 곳보단 집이지 ?네\n",
            "당신은 배달앱 VIP 인가요 ?아니오\n",
            "당신은 집순이입니다.\n"
          ]
        }
      ],
      "source": [
        "import random\n",
        "name = input(\"당신의 이름은? \")\n",
        "question = {\"집밖에 나가는 것 자체가 스케줄 ?\":\" \", \"불금에는 북적대는 곳보단 집이지 ?\":\" \",\"휴대폰만 있어도 안 심심한가요 ?\":\" \",\"카톡 , 문자 알림을 잘 확인하지 않나요 ?\":\" \",\"아무 생각이 없다 . 왜냐하면 아무 생각이 없기 때문이다 라고 자주 느끼나요 ?\":\" \",\"당신은 배달앱 VIP 인가요 ?\":\" \",\"친구와의 약속이 갑작스레 파토났을 때 아쉽다는 생각보다 오예 라는 생각이 더 자주 드나요?\":\" \"}\n",
        "\n",
        "\n",
        "def qna(name):\n",
        "    print(\"=\"*5+\" 안녕하세요 \"+name+\"님, 당신은 집순이일까요?\"+\"=\"*5)\n",
        "    print(\"=\"*5,\" 모든 질문의 대답을 네, 아니오로 답변해주세요\",\"=\"*5)\n",
        "    num = int(input(\"받을 질문의 개수를 입력해주세요(최대 7개 가능): \"))\n",
        "\n",
        "    total = 0\n",
        "    alist = []\n",
        "    for i in range(0,num):\n",
        "        #응용 미션\n",
        "        a = list(question.keys())[random.randint(0,6)]\n",
        "        while a in alist:\n",
        "             a = list(question.keys())[random.randint(0,6)]\n",
        "        alist.append(a)\n",
        "       \n",
        "       \n",
        "       # answer = input(random.choice(question.keys()))\n",
        "        answer = input(alist[i])\n",
        "       \n",
        "\n",
        "        if answer == \"네\":\n",
        "            total += 1\n",
        "    percent = (total / num)*100 \n",
        "    return percent\n",
        "\n",
        "def your_type(percent):\n",
        "    if percent >= 75:\n",
        "        print(\"당신은 집순이입니다.\")\n",
        "    elif percent >= 50:\n",
        "        print(\"당신은 집을 조금 더 좋아하네요.\")\n",
        "    elif percent >= 25:\n",
        "        print(\"당신은 밖을 조금 더 좋아하네요.\")\n",
        "    else:\n",
        "        print(\"당신은 바깥순이입니다.\")\n",
        "        \n",
        "\n",
        "your_type(qna(name))"
      ]
    }
  ]
}